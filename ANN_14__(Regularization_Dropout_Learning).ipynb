{
  "nbformat": 4,
  "nbformat_minor": 0,
  "metadata": {
    "colab": {
      "provenance": [],
      "authorship_tag": "ABX9TyOWJ5WxSR62s3c22hv+bKld",
      "include_colab_link": true
    },
    "kernelspec": {
      "name": "python3",
      "display_name": "Python 3"
    },
    "language_info": {
      "name": "python"
    }
  },
  "cells": [
    {
      "cell_type": "markdown",
      "metadata": {
        "id": "view-in-github",
        "colab_type": "text"
      },
      "source": [
        "<a href=\"https://colab.research.google.com/github/Fuad3004/ANN-Artificial_Neural_Network/blob/main/ANN_14__(Regularization_Dropout_Learning).ipynb\" target=\"_parent\"><img src=\"https://colab.research.google.com/assets/colab-badge.svg\" alt=\"Open In Colab\"/></a>"
      ]
    },
    {
      "cell_type": "markdown",
      "source": [
        "Learning how Dropout works?"
      ],
      "metadata": {
        "id": "hwaOOzXCihr3"
      }
    },
    {
      "cell_type": "code",
      "execution_count": 1,
      "metadata": {
        "id": "mrGakFPRhDWP"
      },
      "outputs": [],
      "source": [
        "# import libraries\n",
        "import torch\n",
        "import torch.nn as nn\n",
        "import torch.nn.functional as F"
      ]
    },
    {
      "cell_type": "code",
      "source": [
        "# define a dropout instance and make some data\n",
        "prob = .5\n",
        "\n",
        "dropout = nn.Dropout(p=prob)\n",
        "x = torch.ones(10)\n",
        "\n",
        "# let's see what dropout returns\n",
        "y = dropout(x)\n",
        "print(x)\n",
        "print(y) #*(1-prob)\n",
        "print(torch.mean(y))"
      ],
      "metadata": {
        "colab": {
          "base_uri": "https://localhost:8080/"
        },
        "id": "MhfPAM1-igSd",
        "outputId": "5bf9b903-d9eb-47f1-ad5d-25f7d2bfe26a"
      },
      "execution_count": 2,
      "outputs": [
        {
          "output_type": "stream",
          "name": "stdout",
          "text": [
            "tensor([1., 1., 1., 1., 1., 1., 1., 1., 1., 1.])\n",
            "tensor([1., 0., 0., 1., 1., 1., 1., 0., 0., 0.])\n",
            "tensor(1.)\n"
          ]
        }
      ]
    },
    {
      "cell_type": "code",
      "source": [
        "\n",
        "# dropout is turned off when evaluating the model\n",
        "dropout.eval()\n",
        "y = dropout(x)\n",
        "print(y)\n",
        "print(torch.mean(y))"
      ],
      "metadata": {
        "colab": {
          "base_uri": "https://localhost:8080/"
        },
        "id": "T0sA-cHPinz_",
        "outputId": "24e70c26-3e5e-4658-e81f-9d8a6961c2b7"
      },
      "execution_count": 3,
      "outputs": [
        {
          "output_type": "stream",
          "name": "stdout",
          "text": [
            "tensor([1., 1., 1., 1., 1., 1., 1., 1., 1., 1.])\n",
            "tensor(1.)\n"
          ]
        }
      ]
    },
    {
      "cell_type": "code",
      "source": [
        "\n",
        "# annoyingly, F.dropout() is not deactivated in eval mode:\n",
        "\n",
        "dropout.eval()\n",
        "y = F.dropout(x)\n",
        "print(y)\n",
        "print(torch.mean(y))"
      ],
      "metadata": {
        "colab": {
          "base_uri": "https://localhost:8080/"
        },
        "id": "fmGedrNSirQj",
        "outputId": "9d8a3f3c-e78c-430d-ae09-6956e7f10800"
      },
      "execution_count": 6,
      "outputs": [
        {
          "output_type": "stream",
          "name": "stdout",
          "text": [
            "tensor([0., 0., 0., 0., 0., 0., 2., 0., 2., 2.])\n",
            "tensor(0.6000)\n"
          ]
        }
      ]
    },
    {
      "cell_type": "code",
      "source": [
        "\n",
        "# but you can manually switch it off\n",
        "# dropout.eval()\n",
        "y = F.dropout(x,training=False)\n",
        "\n",
        "print(y)\n",
        "print(torch.mean(y))\n",
        ""
      ],
      "metadata": {
        "colab": {
          "base_uri": "https://localhost:8080/"
        },
        "id": "q-b8cVmCiti9",
        "outputId": "efd340d2-d07e-48ca-9988-78ffe1c154da"
      },
      "execution_count": 5,
      "outputs": [
        {
          "output_type": "stream",
          "name": "stdout",
          "text": [
            "tensor([1., 1., 1., 1., 1., 1., 1., 1., 1., 1.])\n",
            "tensor(1.)\n"
          ]
        }
      ]
    },
    {
      "cell_type": "code",
      "source": [
        "# the model needs to be reset after toggling into eval mode\n",
        "\n",
        "dropout.train()\n",
        "y = dropout(x)\n",
        "print(y) # with dropout\n",
        "\n",
        "\n",
        "dropout.eval()\n",
        "y = dropout(x)\n",
        "print(y) # without dropout\n",
        "\n",
        "\n",
        "# dropout.train()\n",
        "y = dropout(x)\n",
        "print(y) # still w/o dropout ;)"
      ],
      "metadata": {
        "colab": {
          "base_uri": "https://localhost:8080/"
        },
        "id": "DVmW1DPdiwUH",
        "outputId": "74614548-b4e1-4699-c712-90c800829701"
      },
      "execution_count": 7,
      "outputs": [
        {
          "output_type": "stream",
          "name": "stdout",
          "text": [
            "tensor([0., 0., 0., 2., 0., 0., 0., 2., 0., 2.])\n",
            "tensor([1., 1., 1., 1., 1., 1., 1., 1., 1., 1.])\n",
            "tensor([1., 1., 1., 1., 1., 1., 1., 1., 1., 1.])\n"
          ]
        }
      ]
    },
    {
      "cell_type": "code",
      "source": [],
      "metadata": {
        "id": "tWjiPGfyi0Sx"
      },
      "execution_count": null,
      "outputs": []
    }
  ]
}