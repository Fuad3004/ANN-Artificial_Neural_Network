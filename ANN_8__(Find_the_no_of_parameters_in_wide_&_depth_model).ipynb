{
  "nbformat": 4,
  "nbformat_minor": 0,
  "metadata": {
    "colab": {
      "provenance": [],
      "authorship_tag": "ABX9TyOa/XDfITcQ0yRYlRGjw9uJ",
      "include_colab_link": true
    },
    "kernelspec": {
      "name": "python3",
      "display_name": "Python 3"
    },
    "language_info": {
      "name": "python"
    }
  },
  "cells": [
    {
      "cell_type": "markdown",
      "metadata": {
        "id": "view-in-github",
        "colab_type": "text"
      },
      "source": [
        "<a href=\"https://colab.research.google.com/github/Fuad3004/ANN-Artificial_Neural_Network/blob/main/ANN_8__(Find_the_no_of_parameters_in_wide_%26_depth_model).ipynb\" target=\"_parent\"><img src=\"https://colab.research.google.com/assets/colab-badge.svg\" alt=\"Open In Colab\"/></a>"
      ]
    },
    {
      "cell_type": "code",
      "execution_count": 7,
      "metadata": {
        "id": "5K-B0QeAJCNh"
      },
      "outputs": [],
      "source": [
        "import numpy as np\n",
        "import torch\n",
        "import torch.nn as nn"
      ]
    },
    {
      "cell_type": "code",
      "source": [
        "# build two models\n",
        "widemodel = nn.Sequential(\n",
        "    nn.Linear(2,4),  # hidden layer\n",
        "    nn.Linear(4,3),  # output layer\n",
        "    )\n",
        "\n",
        "\n",
        "deepmodel = nn.Sequential(\n",
        "    nn.Linear(2,2),  # hidden layer\n",
        "    nn.Linear(2,2),  # hidden layer\n",
        "    nn.Linear(2,3),  # output layer\n",
        "    )\n",
        "\n",
        "# print them out to have a look\n",
        "print(widemodel)\n",
        "print(' ')\n",
        "print(deepmodel)"
      ],
      "metadata": {
        "colab": {
          "base_uri": "https://localhost:8080/"
        },
        "id": "5uUJl4WwJhYC",
        "outputId": "84e8a5d5-b576-42de-ffb5-cdd078af8ede"
      },
      "execution_count": 8,
      "outputs": [
        {
          "output_type": "stream",
          "name": "stdout",
          "text": [
            "Sequential(\n",
            "  (0): Linear(in_features=2, out_features=4, bias=True)\n",
            "  (1): Linear(in_features=4, out_features=3, bias=True)\n",
            ")\n",
            " \n",
            "Sequential(\n",
            "  (0): Linear(in_features=2, out_features=2, bias=True)\n",
            "  (1): Linear(in_features=2, out_features=2, bias=True)\n",
            "  (2): Linear(in_features=2, out_features=3, bias=True)\n",
            ")\n"
          ]
        }
      ]
    },
    {
      "cell_type": "markdown",
      "source": [
        "#Find the total number of nodes"
      ],
      "metadata": {
        "id": "qLYnqYa5J966"
      }
    },
    {
      "cell_type": "code",
      "source": [
        "numNodesInWide = 0\n",
        "for p in widemodel.named_parameters():\n",
        "  if 'bias' in p[0]:\n",
        "    numNodesInWide += len(p[1])\n",
        "\n",
        "numNodesInDeep = 0\n",
        "for paramName,paramVect in deepmodel.named_parameters():\n",
        "  if 'bias' in paramName:\n",
        "    numNodesInDeep += len(paramVect)\n",
        "\n",
        "\n",
        "print('There are %s nodes in the wide network.' %numNodesInWide)\n",
        "print('There are %s nodes in the deep network.' %numNodesInDeep)"
      ],
      "metadata": {
        "colab": {
          "base_uri": "https://localhost:8080/"
        },
        "id": "9wVhC_J4JkMK",
        "outputId": "774ad0c6-48a7-4f87-c43c-a0a37bb26ea7"
      },
      "execution_count": 9,
      "outputs": [
        {
          "output_type": "stream",
          "name": "stdout",
          "text": [
            "There are 7 nodes in the wide network.\n",
            "There are 7 nodes in the deep network.\n"
          ]
        }
      ]
    },
    {
      "cell_type": "markdown",
      "source": [
        "#Find total number of parameters"
      ],
      "metadata": {
        "id": "T2I7IZiFKC0c"
      }
    },
    {
      "cell_type": "code",
      "source": [
        "nparams = np.sum([ p.numel() for p in widemodel.parameters() if p.requires_grad ])\n",
        "print('Widenet has %s parameters'%nparams)\n",
        "\n",
        "nparams = np.sum([ p.numel() for p in deepmodel.parameters() if p.requires_grad ])\n",
        "print('Deepnet has %s parameters'%nparams)"
      ],
      "metadata": {
        "colab": {
          "base_uri": "https://localhost:8080/"
        },
        "id": "OxQRdcxCJyKD",
        "outputId": "e0303ccf-f9a7-4881-8f78-01cec0b2da89"
      },
      "execution_count": 10,
      "outputs": [
        {
          "output_type": "stream",
          "name": "stdout",
          "text": [
            "Widenet has 27 parameters\n",
            "Deepnet has 21 parameters\n"
          ]
        }
      ]
    },
    {
      "cell_type": "markdown",
      "source": [
        "#Use torchsummary to find the same thing!"
      ],
      "metadata": {
        "id": "ziC-sOrfKQAT"
      }
    },
    {
      "cell_type": "code",
      "source": [
        "from torchsummary import summary\n",
        "summary(widemodel,(1,2))\n",
        "\n"
      ],
      "metadata": {
        "colab": {
          "base_uri": "https://localhost:8080/"
        },
        "id": "25hDFXDcJ7yZ",
        "outputId": "f259cd9b-2504-4fdc-f438-1f028c0d8854"
      },
      "execution_count": 11,
      "outputs": [
        {
          "output_type": "stream",
          "name": "stdout",
          "text": [
            "----------------------------------------------------------------\n",
            "        Layer (type)               Output Shape         Param #\n",
            "================================================================\n",
            "            Linear-1                 [-1, 1, 4]              12\n",
            "            Linear-2                 [-1, 1, 3]              15\n",
            "================================================================\n",
            "Total params: 27\n",
            "Trainable params: 27\n",
            "Non-trainable params: 0\n",
            "----------------------------------------------------------------\n",
            "Input size (MB): 0.00\n",
            "Forward/backward pass size (MB): 0.00\n",
            "Params size (MB): 0.00\n",
            "Estimated Total Size (MB): 0.00\n",
            "----------------------------------------------------------------\n"
          ]
        }
      ]
    },
    {
      "cell_type": "code",
      "source": [
        "summary(deepmodel,(1,2))\n"
      ],
      "metadata": {
        "colab": {
          "base_uri": "https://localhost:8080/"
        },
        "id": "txNoO34DKXt5",
        "outputId": "bf9e98d9-a629-4376-a64c-ce7a8526d663"
      },
      "execution_count": 12,
      "outputs": [
        {
          "output_type": "stream",
          "name": "stdout",
          "text": [
            "----------------------------------------------------------------\n",
            "        Layer (type)               Output Shape         Param #\n",
            "================================================================\n",
            "            Linear-1                 [-1, 1, 2]               6\n",
            "            Linear-2                 [-1, 1, 2]               6\n",
            "            Linear-3                 [-1, 1, 3]               9\n",
            "================================================================\n",
            "Total params: 21\n",
            "Trainable params: 21\n",
            "Non-trainable params: 0\n",
            "----------------------------------------------------------------\n",
            "Input size (MB): 0.00\n",
            "Forward/backward pass size (MB): 0.00\n",
            "Params size (MB): 0.00\n",
            "Estimated Total Size (MB): 0.00\n",
            "----------------------------------------------------------------\n"
          ]
        }
      ]
    },
    {
      "cell_type": "code",
      "source": [],
      "metadata": {
        "id": "2ysd9BOLKzE5"
      },
      "execution_count": 12,
      "outputs": []
    }
  ]
}